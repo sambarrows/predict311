{
 "cells": [
  {
   "cell_type": "markdown",
   "metadata": {},
   "source": [
    "nb. the following code won't run - is just to give example"
   ]
  },
  {
   "cell_type": "markdown",
   "metadata": {},
   "source": [
    "## Track progress better & save weights after each epoch"
   ]
  },
  {
   "cell_type": "markdown",
   "metadata": {},
   "source": [
    "I found Jupyter kept freezing while I was running model, and couldn't tell whether it was working or how much progress it had made. Therefore:\n",
    "\n",
    "1. Follow suggestions to use package to more clearly track progress that can help stop Jupyter freezing. For details of TQDM progress bars see [github](https://github.com/bstriner/keras-tqdm). [This post](http://forums.fast.ai/t/jupyter-notebook-dies-freezes-during-training/2651/4) recommends setting verbose=0 when you do this.\n",
    "\n",
    "2. Save model after each epoch, so if something goes wrong I dont lose work and so I can get an idea of progress by seeing what files have been saved. For details of saving model after each epoch see [documentation](https://keras.io/callbacks/#modelcheckpoint). There is an example of applying it [here](https://machinelearningmastery.com/check-point-deep-learning-models-keras/). There is an example of how to then load waits and pick up where you left off [here](https://github.com/keras-team/keras/issues/2378) and a discussion [here](https://github.com/keras-team/keras/issues/1872)."
   ]
  },
  {
   "cell_type": "code",
   "execution_count": null,
   "metadata": {},
   "outputs": [],
   "source": [
    "from keras_tqdm import TQDMNotebookCallback\n",
    "from keras.callbacks import ModelCheckpoint"
   ]
  },
  {
   "cell_type": "code",
   "execution_count": null,
   "metadata": {},
   "outputs": [],
   "source": [
    "model = Sequential()\n",
    "model.add(layers.Flatten(input_shape=(lookback / step, float_data.shape[-1])))\n",
    "model.add(layers.Dense(32, activation='relu'))\n",
    "model.add(layers.Dense(1))\n",
    "\n",
    "filepath='saved_epochs/stacked-weights-{epoch:02d}-{val_loss:.2f}.hdf5'\n",
    "checkpoint = ModelCheckpoint(filepath, monitor='val_loss', verbose=0, save_best_only=False)\n",
    "callbacks_list = [TQDMNotebookCallback(), checkpoint]\n",
    "\n",
    "model.compile(optimizer=RMSprop(), loss='mae')\n",
    "history = model.fit_generator(train_gen,\n",
    "                              steps_per_epoch=5,\n",
    "                              epochs=1,    # 5\n",
    "                              validation_data=val_gen,\n",
    "                              validation_steps=val_steps,\n",
    "                              callbacks=callbacks_list)"
   ]
  },
  {
   "cell_type": "markdown",
   "metadata": {},
   "source": [
    "If then need to read in model and pick up where you left off:"
   ]
  },
  {
   "cell_type": "code",
   "execution_count": null,
   "metadata": {},
   "outputs": [],
   "source": [
    "model = Sequential()\n",
    "model.add(layers.Flatten(input_shape=(lookback / step, float_data.shape[-1])))\n",
    "model.add(layers.Dense(32, activation='relu'))\n",
    "model.add(layers.Dense(1))\n",
    "model.compile(optimizer=RMSprop(), loss='mae')\n",
    "model.load_weights('saved_epochs/stacked-weights-01-89.09.hdf5')\n",
    "\n",
    "history = model.fit_generator(train_gen,\n",
    "                              steps_per_epoch=5,\n",
    "                              epochs=1,    # 5\n",
    "                              validation_data=val_gen,\n",
    "                              validation_steps=val_steps)"
   ]
  },
  {
   "cell_type": "markdown",
   "metadata": {},
   "source": [
    "## Save history"
   ]
  },
  {
   "cell_type": "code",
   "execution_count": null,
   "metadata": {},
   "outputs": [],
   "source": [
    "# save history as a dictionary\n",
    "def save_obj(obj, name):\n",
    "    with open('histories/' + name + '.pkl', 'wb') as f:\n",
    "        pickle.dump(obj, f, pickle.HIGHEST_PROTOCOL)\n",
    "save_obj(history.history, 'model_rnn_history')"
   ]
  },
  {
   "cell_type": "code",
   "execution_count": null,
   "metadata": {},
   "outputs": [],
   "source": [
    "# if need to load dictionary containing history\n",
    "# (will need to refined loss and val_loss - see the two lines below)\n",
    "def load_obj(name ):\n",
    "    with open('histories/' + name + '.pkl', 'rb') as f:\n",
    "        return pickle.load(f)\n",
    "model_hist = load_obj('model_rnn_history')   "
   ]
  },
  {
   "cell_type": "markdown",
   "metadata": {},
   "source": [
    "## Save model when done fitting"
   ]
  },
  {
   "cell_type": "markdown",
   "metadata": {},
   "source": [
    "I think that this will not overwrite an existing file - so be sure to manually delete it first."
   ]
  },
  {
   "cell_type": "code",
   "execution_count": null,
   "metadata": {},
   "outputs": [],
   "source": [
    "# save model (if it performs best, I will want to evaluate on test set,\n",
    "# and in practice would want to use it's predictions)\n",
    "# serialize model to JSON\n",
    "model_json = model.to_json()\n",
    "with open(\"model_basic.json\", \"w\") as json_file:\n",
    "    json_file.write(model_json)\n",
    "# serialize weights to HDF5\n",
    "model.save_weights(\"model_basic.h5\")"
   ]
  },
  {
   "cell_type": "markdown",
   "metadata": {},
   "source": [
    "Load model:"
   ]
  },
  {
   "cell_type": "code",
   "execution_count": null,
   "metadata": {},
   "outputs": [],
   "source": [
    "# load json and create model\n",
    "json_file = open('model_basic.json', 'r')\n",
    "loaded_model_json = json_file.read()\n",
    "json_file.close()\n",
    "loaded_model = model_from_json(loaded_model_json)\n",
    "# load weights into new model\n",
    "loaded_model.load_weights(\"model_basic.h5\")\n",
    "print(\"Loaded model from disk\")\n",
    "\n",
    "# compile\n",
    "loaded_model.compile(loss='mae', optimizer='rmsprop', metrics=['accuracy'])"
   ]
  }
 ],
 "metadata": {
  "kernelspec": {
   "display_name": "Python 2",
   "language": "python",
   "name": "python2"
  },
  "language_info": {
   "codemirror_mode": {
    "name": "ipython",
    "version": 2
   },
   "file_extension": ".py",
   "mimetype": "text/x-python",
   "name": "python",
   "nbconvert_exporter": "python",
   "pygments_lexer": "ipython2",
   "version": "2.7.12"
  }
 },
 "nbformat": 4,
 "nbformat_minor": 2
}
