{
 "cells": [
  {
   "cell_type": "code",
   "execution_count": 295,
   "metadata": {},
   "outputs": [],
   "source": [
    "import pandas as pd\n",
    "from datetime import datetime\n",
    "from datetime import timedelta"
   ]
  },
  {
   "cell_type": "markdown",
   "metadata": {},
   "source": [
    "# Create dataframe"
   ]
  },
  {
   "cell_type": "markdown",
   "metadata": {},
   "source": [
    "## Create column grouping agencies with fewest calls"
   ]
  },
  {
   "cell_type": "code",
   "execution_count": null,
   "metadata": {
    "collapsed": true
   },
   "outputs": [],
   "source": [
    "df = pd.read_csv('/Users/sambarrows/Dropbox/Stats/Notes_DL/predict_311/311_Service_Requests_from_2015.csv',\n",
    "                chunksize=100000, low_memory=False)"
   ]
  },
  {
   "cell_type": "code",
   "execution_count": 235,
   "metadata": {
    "collapsed": true
   },
   "outputs": [],
   "source": [
    "d = df.get_chunk(100000)    # nb. will move onto next chunk each time run it, \n",
    "                            # so if want same result need to read in df again\n",
    "\n",
    "# remove white space from column names\n",
    "d.columns = d.columns.str.replace('\\s+', '')"
   ]
  },
  {
   "cell_type": "code",
   "execution_count": 236,
   "metadata": {},
   "outputs": [
    {
     "data": {
      "text/plain": [
       "Agency\n",
       "NYPD     44413\n",
       "DOT      12934\n",
       "DPR       8158\n",
       "HPD       7942\n",
       "DSNY      7159\n",
       "DOHMH     5018\n",
       "TLC       3054\n",
       "HRA       2754\n",
       "DCA       2524\n",
       "DOB       2332\n",
       "DOF       1423\n",
       "DEP        865\n",
       "FDNY       849\n",
       "EDC        237\n",
       "DOE        189\n",
       "3-1-1       65\n",
       "DOITT       61\n",
       "DFTA        15\n",
       "OATH         3\n",
       "DHS          1\n",
       "NYCEM        1\n",
       "CHALL        1\n",
       "ACS          1\n",
       "DOC          1\n",
       "Name: UniqueKey, dtype: int64"
      ]
     },
     "execution_count": 236,
     "metadata": {},
     "output_type": "execute_result"
    }
   ],
   "source": [
    "ag = d.groupby('Agency')['UniqueKey'].count().sort_values(ascending=False)\n",
    "ag"
   ]
  },
  {
   "cell_type": "code",
   "execution_count": 237,
   "metadata": {},
   "outputs": [
    {
     "data": {
      "text/plain": [
       "['NYPD', 'DOT', 'DPR', 'HPD', 'DSNY', 'DOHMH', 'TLC', 'HRA', 'DCA', 'DOB']"
      ]
     },
     "execution_count": 237,
     "metadata": {},
     "output_type": "execute_result"
    }
   ],
   "source": [
    "agencies = list(ag.index)[:10]\n",
    "agencies"
   ]
  },
  {
   "cell_type": "code",
   "execution_count": 238,
   "metadata": {},
   "outputs": [
    {
     "data": {
      "text/plain": [
       "KeyAgencies\n",
       "NYPD     44413\n",
       "DOT      12934\n",
       "DPR       8158\n",
       "HPD       7942\n",
       "DSNY      7159\n",
       "DOHMH     5018\n",
       "other     3712\n",
       "TLC       3054\n",
       "HRA       2754\n",
       "DCA       2524\n",
       "DOB       2332\n",
       "Name: UniqueKey, dtype: int64"
      ]
     },
     "execution_count": 238,
     "metadata": {},
     "output_type": "execute_result"
    }
   ],
   "source": [
    "# create column giving agency if one of top 15 agencies contacted, or other otherwise\n",
    "d['KeyAgencies'] = d['Agency'].apply(lambda x: x if x in agencies else 'other')\n",
    "d.groupby('KeyAgencies')['UniqueKey'].count().sort_values(ascending=False)"
   ]
  },
  {
   "cell_type": "markdown",
   "metadata": {},
   "source": [
    "# Break dataframe into chunks and process"
   ]
  },
  {
   "cell_type": "code",
   "execution_count": 239,
   "metadata": {},
   "outputs": [],
   "source": [
    "def process_chunk(chunk, agencies):\n",
    "    c = chunk\n",
    "\n",
    "    # remove white space from column names\n",
    "    c.columns = c.columns.str.replace('\\s+', '')\n",
    "    \n",
    "    # create column giving agency if one of top 15 agencies contacted, or 'other' otherwise\n",
    "    c['KeyAgencies'] = c['Agency'].apply(lambda x: x if x in agencies else 'other')\n",
    "        \n",
    "    # create column giving year-month-day-hour\n",
    "    c['CreatedHour'] =  pd.to_datetime(c['CreatedDate'], format=\"%m/%d/%Y %I:%M:%S %p\").dt.strftime('%Y-%m-%d-%H')\n",
    "        \n",
    "    # group by year-month-day-hour an count calls to each agency\n",
    "    g = c.groupby(['CreatedHour','KeyAgencies'])['UniqueKey'].count().to_frame()\n",
    "\n",
    "    # rearrange and tidy dataframe\n",
    "    g = g.unstack()\n",
    "    g.columns = g.columns.droplevel()\n",
    "    del g.index.name\n",
    "    del g.columns.name\n",
    "    g.fillna(0, inplace=True)\n",
    "        \n",
    "    return g"
   ]
  },
  {
   "cell_type": "code",
   "execution_count": 240,
   "metadata": {},
   "outputs": [
    {
     "data": {
      "text/html": [
       "<div>\n",
       "<style>\n",
       "    .dataframe thead tr:only-child th {\n",
       "        text-align: right;\n",
       "    }\n",
       "\n",
       "    .dataframe thead th {\n",
       "        text-align: left;\n",
       "    }\n",
       "\n",
       "    .dataframe tbody tr th {\n",
       "        vertical-align: top;\n",
       "    }\n",
       "</style>\n",
       "<table border=\"1\" class=\"dataframe\">\n",
       "  <thead>\n",
       "    <tr style=\"text-align: right;\">\n",
       "      <th></th>\n",
       "      <th>DCA</th>\n",
       "      <th>DOB</th>\n",
       "      <th>DOHMH</th>\n",
       "      <th>DOT</th>\n",
       "      <th>DPR</th>\n",
       "      <th>DSNY</th>\n",
       "      <th>HPD</th>\n",
       "      <th>HRA</th>\n",
       "      <th>NYPD</th>\n",
       "      <th>TLC</th>\n",
       "      <th>other</th>\n",
       "    </tr>\n",
       "  </thead>\n",
       "  <tbody>\n",
       "    <tr>\n",
       "      <th>2015-01-01-00</th>\n",
       "      <td>0.0</td>\n",
       "      <td>0.0</td>\n",
       "      <td>0.0</td>\n",
       "      <td>1.0</td>\n",
       "      <td>0.0</td>\n",
       "      <td>0.0</td>\n",
       "      <td>0.0</td>\n",
       "      <td>0.0</td>\n",
       "      <td>5.0</td>\n",
       "      <td>0.0</td>\n",
       "      <td>0.0</td>\n",
       "    </tr>\n",
       "    <tr>\n",
       "      <th>2015-01-01-01</th>\n",
       "      <td>0.0</td>\n",
       "      <td>0.0</td>\n",
       "      <td>1.0</td>\n",
       "      <td>0.0</td>\n",
       "      <td>0.0</td>\n",
       "      <td>0.0</td>\n",
       "      <td>0.0</td>\n",
       "      <td>0.0</td>\n",
       "      <td>8.0</td>\n",
       "      <td>3.0</td>\n",
       "      <td>0.0</td>\n",
       "    </tr>\n",
       "    <tr>\n",
       "      <th>2015-01-01-02</th>\n",
       "      <td>0.0</td>\n",
       "      <td>0.0</td>\n",
       "      <td>0.0</td>\n",
       "      <td>0.0</td>\n",
       "      <td>0.0</td>\n",
       "      <td>0.0</td>\n",
       "      <td>0.0</td>\n",
       "      <td>1.0</td>\n",
       "      <td>7.0</td>\n",
       "      <td>1.0</td>\n",
       "      <td>0.0</td>\n",
       "    </tr>\n",
       "    <tr>\n",
       "      <th>2015-01-01-03</th>\n",
       "      <td>0.0</td>\n",
       "      <td>0.0</td>\n",
       "      <td>0.0</td>\n",
       "      <td>0.0</td>\n",
       "      <td>0.0</td>\n",
       "      <td>0.0</td>\n",
       "      <td>0.0</td>\n",
       "      <td>0.0</td>\n",
       "      <td>2.0</td>\n",
       "      <td>1.0</td>\n",
       "      <td>0.0</td>\n",
       "    </tr>\n",
       "    <tr>\n",
       "      <th>2015-01-01-04</th>\n",
       "      <td>0.0</td>\n",
       "      <td>0.0</td>\n",
       "      <td>0.0</td>\n",
       "      <td>0.0</td>\n",
       "      <td>0.0</td>\n",
       "      <td>0.0</td>\n",
       "      <td>0.0</td>\n",
       "      <td>0.0</td>\n",
       "      <td>5.0</td>\n",
       "      <td>1.0</td>\n",
       "      <td>0.0</td>\n",
       "    </tr>\n",
       "  </tbody>\n",
       "</table>\n",
       "</div>"
      ],
      "text/plain": [
       "               DCA  DOB  DOHMH  DOT  DPR  DSNY  HPD  HRA  NYPD  TLC  other\n",
       "2015-01-01-00  0.0  0.0    0.0  1.0  0.0   0.0  0.0  0.0   5.0  0.0    0.0\n",
       "2015-01-01-01  0.0  0.0    1.0  0.0  0.0   0.0  0.0  0.0   8.0  3.0    0.0\n",
       "2015-01-01-02  0.0  0.0    0.0  0.0  0.0   0.0  0.0  1.0   7.0  1.0    0.0\n",
       "2015-01-01-03  0.0  0.0    0.0  0.0  0.0   0.0  0.0  0.0   2.0  1.0    0.0\n",
       "2015-01-01-04  0.0  0.0    0.0  0.0  0.0   0.0  0.0  0.0   5.0  1.0    0.0"
      ]
     },
     "execution_count": 240,
     "metadata": {},
     "output_type": "execute_result"
    }
   ],
   "source": [
    "process_chunk(d, agencies).head()"
   ]
  },
  {
   "cell_type": "code",
   "execution_count": 241,
   "metadata": {
    "collapsed": true
   },
   "outputs": [],
   "source": [
    "# read in dataframe again to make sure I don't miss a chunk\n",
    "df = pd.read_csv('/Users/sambarrows/Dropbox/Stats/Notes_DL/predict_311/311_Service_Requests_from_2015.csv',\n",
    "                chunksize=100000, low_memory=False)"
   ]
  },
  {
   "cell_type": "code",
   "execution_count": 242,
   "metadata": {},
   "outputs": [],
   "source": [
    "chunksize = 100000\n",
    "chunks = []\n",
    "for chunk in df:\n",
    "    chunks.append(process_chunk(chunk, agencies))\n",
    "df = pd.concat(chunks, axis=0)"
   ]
  },
  {
   "cell_type": "code",
   "execution_count": 247,
   "metadata": {},
   "outputs": [
    {
     "name": "stdout",
     "output_type": "stream",
     "text": [
      "110615\n"
     ]
    },
    {
     "data": {
      "text/html": [
       "<div>\n",
       "<style>\n",
       "    .dataframe thead tr:only-child th {\n",
       "        text-align: right;\n",
       "    }\n",
       "\n",
       "    .dataframe thead th {\n",
       "        text-align: left;\n",
       "    }\n",
       "\n",
       "    .dataframe tbody tr th {\n",
       "        vertical-align: top;\n",
       "    }\n",
       "</style>\n",
       "<table border=\"1\" class=\"dataframe\">\n",
       "  <thead>\n",
       "    <tr style=\"text-align: right;\">\n",
       "      <th></th>\n",
       "      <th>DCA</th>\n",
       "      <th>DOB</th>\n",
       "      <th>DOHMH</th>\n",
       "      <th>DOT</th>\n",
       "      <th>DPR</th>\n",
       "      <th>DSNY</th>\n",
       "      <th>HPD</th>\n",
       "      <th>HRA</th>\n",
       "      <th>NYPD</th>\n",
       "      <th>TLC</th>\n",
       "      <th>other</th>\n",
       "    </tr>\n",
       "  </thead>\n",
       "  <tbody>\n",
       "    <tr>\n",
       "      <th>2015-01-01-00</th>\n",
       "      <td>0.0</td>\n",
       "      <td>0.0</td>\n",
       "      <td>0.0</td>\n",
       "      <td>1.0</td>\n",
       "      <td>0.0</td>\n",
       "      <td>0.0</td>\n",
       "      <td>0.0</td>\n",
       "      <td>0.0</td>\n",
       "      <td>5.0</td>\n",
       "      <td>0.0</td>\n",
       "      <td>0.0</td>\n",
       "    </tr>\n",
       "    <tr>\n",
       "      <th>2015-01-01-01</th>\n",
       "      <td>0.0</td>\n",
       "      <td>0.0</td>\n",
       "      <td>1.0</td>\n",
       "      <td>0.0</td>\n",
       "      <td>0.0</td>\n",
       "      <td>0.0</td>\n",
       "      <td>0.0</td>\n",
       "      <td>0.0</td>\n",
       "      <td>8.0</td>\n",
       "      <td>3.0</td>\n",
       "      <td>0.0</td>\n",
       "    </tr>\n",
       "    <tr>\n",
       "      <th>2015-01-01-02</th>\n",
       "      <td>0.0</td>\n",
       "      <td>0.0</td>\n",
       "      <td>0.0</td>\n",
       "      <td>0.0</td>\n",
       "      <td>0.0</td>\n",
       "      <td>0.0</td>\n",
       "      <td>0.0</td>\n",
       "      <td>1.0</td>\n",
       "      <td>7.0</td>\n",
       "      <td>1.0</td>\n",
       "      <td>0.0</td>\n",
       "    </tr>\n",
       "    <tr>\n",
       "      <th>2015-01-01-03</th>\n",
       "      <td>0.0</td>\n",
       "      <td>0.0</td>\n",
       "      <td>0.0</td>\n",
       "      <td>0.0</td>\n",
       "      <td>0.0</td>\n",
       "      <td>0.0</td>\n",
       "      <td>0.0</td>\n",
       "      <td>0.0</td>\n",
       "      <td>2.0</td>\n",
       "      <td>1.0</td>\n",
       "      <td>0.0</td>\n",
       "    </tr>\n",
       "    <tr>\n",
       "      <th>2015-01-01-04</th>\n",
       "      <td>0.0</td>\n",
       "      <td>0.0</td>\n",
       "      <td>0.0</td>\n",
       "      <td>0.0</td>\n",
       "      <td>0.0</td>\n",
       "      <td>0.0</td>\n",
       "      <td>0.0</td>\n",
       "      <td>0.0</td>\n",
       "      <td>5.0</td>\n",
       "      <td>1.0</td>\n",
       "      <td>0.0</td>\n",
       "    </tr>\n",
       "  </tbody>\n",
       "</table>\n",
       "</div>"
      ],
      "text/plain": [
       "               DCA  DOB  DOHMH  DOT  DPR  DSNY  HPD  HRA  NYPD  TLC  other\n",
       "2015-01-01-00  0.0  0.0    0.0  1.0  0.0   0.0  0.0  0.0   5.0  0.0    0.0\n",
       "2015-01-01-01  0.0  0.0    1.0  0.0  0.0   0.0  0.0  0.0   8.0  3.0    0.0\n",
       "2015-01-01-02  0.0  0.0    0.0  0.0  0.0   0.0  0.0  1.0   7.0  1.0    0.0\n",
       "2015-01-01-03  0.0  0.0    0.0  0.0  0.0   0.0  0.0  0.0   2.0  1.0    0.0\n",
       "2015-01-01-04  0.0  0.0    0.0  0.0  0.0   0.0  0.0  0.0   5.0  1.0    0.0"
      ]
     },
     "execution_count": 247,
     "metadata": {},
     "output_type": "execute_result"
    }
   ],
   "source": [
    "print len(df)\n",
    "df.head()"
   ]
  },
  {
   "cell_type": "code",
   "execution_count": 254,
   "metadata": {},
   "outputs": [
    {
     "data": {
      "text/plain": [
       "8737"
      ]
     },
     "execution_count": 254,
     "metadata": {},
     "output_type": "execute_result"
    }
   ],
   "source": [
    "# check if duplicates in index\n",
    "print len(df)\n",
    "print len(df.index.unique())\n",
    "\n",
    "# combine duplicate year-month-day-hour rows\n",
    "df = df.groupby(level=0).sum()\n",
    "len(df)\n",
    "\n",
    "# how many hours in a year?\n",
    "24*365"
   ]
  },
  {
   "cell_type": "code",
   "execution_count": 298,
   "metadata": {},
   "outputs": [],
   "source": [
    "# # fill gaps in hours\n",
    "\n",
    "# # create list to be new index with all hours\n",
    "# d = datetime.strptime(min(df.index)[:10], \"%Y-%m-%d\")\n",
    "# hours = []\n",
    "# for _ in range(24*364+1):\n",
    "#     hours.append(d.strftime('%Y-%m-%d-%H'))\n",
    "#     d = d + timedelta(hours=1)\n",
    "    \n",
    "# # confirm min and max of list match index\n",
    "# print min(df.index)\n",
    "# print min(hours)\n",
    "# print max(df.index)\n",
    "# print max(hours)\n",
    "# print \n",
    "    \n",
    "# # reindex\n",
    "# print len(df)\n",
    "# print len(df.reindex(hours, fill_value=0))   \n",
    "    \n",
    "# # in this case not needed - number rows only looked to small because missing last day"
   ]
  },
  {
   "cell_type": "code",
   "execution_count": 301,
   "metadata": {},
   "outputs": [],
   "source": [
    "# add total column\n",
    "df['total'] = df[list(df.columns)].sum(axis=1)"
   ]
  },
  {
   "cell_type": "code",
   "execution_count": 303,
   "metadata": {
    "collapsed": true
   },
   "outputs": [],
   "source": [
    "# save to .csv\n",
    "df.to_csv('/Users/sambarrows/Dropbox/Stats/Notes_DL/predict_311/calldat.csv')"
   ]
  },
  {
   "cell_type": "markdown",
   "metadata": {},
   "source": [
    "# Explore the data"
   ]
  },
  {
   "cell_type": "code",
   "execution_count": null,
   "metadata": {
    "collapsed": true
   },
   "outputs": [],
   "source": []
  }
 ],
 "metadata": {
  "kernelspec": {
   "display_name": "Python 2",
   "language": "python",
   "name": "python2"
  },
  "language_info": {
   "codemirror_mode": {
    "name": "ipython",
    "version": 2
   },
   "file_extension": ".py",
   "mimetype": "text/x-python",
   "name": "python",
   "nbconvert_exporter": "python",
   "pygments_lexer": "ipython2",
   "version": "2.7.14"
  }
 },
 "nbformat": 4,
 "nbformat_minor": 2
}
