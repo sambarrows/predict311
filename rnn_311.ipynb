{
 "cells": [
  {
   "cell_type": "code",
   "execution_count": 21,
   "metadata": {},
   "outputs": [],
   "source": [
    "import numpy as np\n",
    "import pandas as pd\n",
    "from matplotlib import pyplot as plt\n",
    "import os\n",
    "import time\n",
    "import math\n",
    "import pickle\n",
    "\n",
    "from keras.models import Sequential, model_from_json\n",
    "from keras import layers\n",
    "from keras.optimizers import RMSprop\n",
    "from keras_tqdm import TQDMNotebookCallback\n",
    "from keras.callbacks import ModelCheckpoint"
   ]
  },
  {
   "cell_type": "markdown",
   "metadata": {},
   "source": [
    "Check if Keras is using GPU.\n",
    "\n",
    "```device:GPU:0``` means that Keras is running a GPU (see [here](https://www.tensorflow.org/programmers_guide/using_gpu))."
   ]
  },
  {
   "cell_type": "code",
   "execution_count": 2,
   "metadata": {},
   "outputs": [
    {
     "data": {
      "text/plain": [
       "['/job:localhost/replica:0/task:0/device:GPU:0']"
      ]
     },
     "execution_count": 2,
     "metadata": {},
     "output_type": "execute_result"
    }
   ],
   "source": [
    "from keras import backend as K\n",
    "K.tensorflow_backend._get_available_gpus()"
   ]
  },
  {
   "cell_type": "markdown",
   "metadata": {},
   "source": [
    "If any problems, may want to get list of local tensorflow devices (I'm a little puzzled that CPU is showing up, since it looks like I've only installed tensorflow GPU)."
   ]
  },
  {
   "cell_type": "code",
   "execution_count": 12,
   "metadata": {},
   "outputs": [
    {
     "name": "stdout",
     "output_type": "stream",
     "text": [
      "[name: \"/device:CPU:0\"\n",
      "device_type: \"CPU\"\n",
      "memory_limit: 268435456\n",
      "locality {\n",
      "}\n",
      "incarnation: 5896020367118571125\n",
      ", name: \"/device:GPU:0\"\n",
      "device_type: \"GPU\"\n",
      "memory_limit: 11286970368\n",
      "locality {\n",
      "  bus_id: 1\n",
      "  links {\n",
      "  }\n",
      "}\n",
      "incarnation: 13688432107387358350\n",
      "physical_device_desc: \"device: 0, name: Tesla K80, pci bus id: 0000:00:1e.0, compute capability: 3.7\"\n",
      "]\n"
     ]
    }
   ],
   "source": [
    "from tensorflow.python.client import device_lib\n",
    "print(device_lib.list_local_devices())"
   ]
  },
  {
   "cell_type": "code",
   "execution_count": 9,
   "metadata": {},
   "outputs": [],
   "source": [
    "# data_dir = '/Users/sambarrows/Dropbox/Stats/Projects/predict311'\n",
    "data_dir = '/home/ubuntu/data'"
   ]
  },
  {
   "cell_type": "markdown",
   "metadata": {},
   "source": [
    "# Overview\n",
    "\n",
    "NYC311 provides access to non-emergency City services and information about City government programs. In this dataset, the number of calls received by NYC's 311 service in 10 minute intervals are recorded. The number of calls is also broken down by the responding agency. \n",
    "\n",
    "The original data goes back to 2010. initial exploration of the data, however, indicated that the number of calls received has changed substantially in this period. Specifically, the volume of calls increased substantially during 2015 and has remained at a high level since. I therefore use only data from 2016 and 2017.\n",
    "\n",
    "I will build a model that takes as input data from the recent past and predicts the number of calls during a 10 minute interval one week in the future. I chose to divide my data into 10 minute intervals in order to give me sufficient time steps to work with. "
   ]
  },
  {
   "cell_type": "markdown",
   "metadata": {},
   "source": [
    "# Read, parse, and explore the data"
   ]
  },
  {
   "cell_type": "markdown",
   "metadata": {},
   "source": [
    "## Read data from csv"
   ]
  },
  {
   "cell_type": "code",
   "execution_count": 10,
   "metadata": {},
   "outputs": [
    {
     "name": "stdout",
     "output_type": "stream",
     "text": [
      "['tenmin', 'DEP', 'DOB', 'DOF', 'DOHMH', 'DOT', 'DPR', 'DSNY', 'HPD', 'NYPD', 'TLC', 'other', 'total']\n",
      "105264\n"
     ]
    }
   ],
   "source": [
    "fname = os.path.join(data_dir, 'calldat1617.csv')\n",
    "\n",
    "f = open(fname)\n",
    "data = f.read()\n",
    "f.close()\n",
    "\n",
    "lines = data.split('\\n')\n",
    "header = lines[0].split(',')\n",
    "lines = lines[1:len(lines)-1]    # drop the tenmin colum\n",
    "                                 # also, for some reason final element in line an empty string so drop that too\n",
    "lines[len(lines)-1]\n",
    "print(header)\n",
    "print(len(lines))"
   ]
  },
  {
   "cell_type": "markdown",
   "metadata": {},
   "source": [
    "## Parse the data"
   ]
  },
  {
   "cell_type": "code",
   "execution_count": 11,
   "metadata": {},
   "outputs": [],
   "source": [
    "float_data = np.zeros((len(lines), len(header) - 1))\n",
    "for i, line in enumerate(lines):\n",
    "    values = [float(x) for x in line.split(',')[1:]]\n",
    "    float_data[i, :] = values"
   ]
  },
  {
   "cell_type": "code",
   "execution_count": 12,
   "metadata": {},
   "outputs": [
    {
     "data": {
      "text/plain": [
       "array([[ 0.,  0.,  0., 53.,  0.,  0.,  0.,  3., 19.,  0.,  0., 75.],\n",
       "       [ 0.,  0.,  0.,  0.,  2.,  0.,  0.,  2., 26.,  0.,  0., 30.]])"
      ]
     },
     "execution_count": 12,
     "metadata": {},
     "output_type": "execute_result"
    }
   ],
   "source": [
    "float_data[:2]"
   ]
  },
  {
   "cell_type": "markdown",
   "metadata": {},
   "source": [
    "## Read in as pandas to check all looks ok"
   ]
  },
  {
   "cell_type": "code",
   "execution_count": 18,
   "metadata": {},
   "outputs": [
    {
     "data": {
      "text/html": [
       "<div>\n",
       "<style scoped>\n",
       "    .dataframe tbody tr th:only-of-type {\n",
       "        vertical-align: middle;\n",
       "    }\n",
       "\n",
       "    .dataframe tbody tr th {\n",
       "        vertical-align: top;\n",
       "    }\n",
       "\n",
       "    .dataframe thead th {\n",
       "        text-align: right;\n",
       "    }\n",
       "</style>\n",
       "<table border=\"1\" class=\"dataframe\">\n",
       "  <thead>\n",
       "    <tr style=\"text-align: right;\">\n",
       "      <th></th>\n",
       "      <th>tenmin</th>\n",
       "      <th>DEP</th>\n",
       "      <th>DOB</th>\n",
       "      <th>DOF</th>\n",
       "      <th>DOHMH</th>\n",
       "      <th>DOT</th>\n",
       "      <th>DPR</th>\n",
       "      <th>DSNY</th>\n",
       "      <th>HPD</th>\n",
       "      <th>NYPD</th>\n",
       "      <th>TLC</th>\n",
       "      <th>other</th>\n",
       "      <th>total</th>\n",
       "    </tr>\n",
       "  </thead>\n",
       "  <tbody>\n",
       "    <tr>\n",
       "      <th>0</th>\n",
       "      <td>2016-01-01-00-00</td>\n",
       "      <td>0.0</td>\n",
       "      <td>0.0</td>\n",
       "      <td>0.0</td>\n",
       "      <td>53.0</td>\n",
       "      <td>0.0</td>\n",
       "      <td>0.0</td>\n",
       "      <td>0.0</td>\n",
       "      <td>3.0</td>\n",
       "      <td>19.0</td>\n",
       "      <td>0.0</td>\n",
       "      <td>0.0</td>\n",
       "      <td>75.0</td>\n",
       "    </tr>\n",
       "    <tr>\n",
       "      <th>1</th>\n",
       "      <td>2016-01-01-00-10</td>\n",
       "      <td>0.0</td>\n",
       "      <td>0.0</td>\n",
       "      <td>0.0</td>\n",
       "      <td>0.0</td>\n",
       "      <td>2.0</td>\n",
       "      <td>0.0</td>\n",
       "      <td>0.0</td>\n",
       "      <td>2.0</td>\n",
       "      <td>26.0</td>\n",
       "      <td>0.0</td>\n",
       "      <td>0.0</td>\n",
       "      <td>30.0</td>\n",
       "    </tr>\n",
       "  </tbody>\n",
       "</table>\n",
       "</div>"
      ],
      "text/plain": [
       "             tenmin  DEP  DOB  DOF  DOHMH  DOT  DPR  DSNY  HPD  NYPD  TLC  \\\n",
       "0  2016-01-01-00-00  0.0  0.0  0.0   53.0  0.0  0.0   0.0  3.0  19.0  0.0   \n",
       "1  2016-01-01-00-10  0.0  0.0  0.0    0.0  2.0  0.0   0.0  2.0  26.0  0.0   \n",
       "\n",
       "   other  total  \n",
       "0    0.0   75.0  \n",
       "1    0.0   30.0  "
      ]
     },
     "execution_count": 18,
     "metadata": {},
     "output_type": "execute_result"
    }
   ],
   "source": [
    "df_check = pd.read_csv(fname)\n",
    "df_check.head(2)"
   ]
  },
  {
   "cell_type": "markdown",
   "metadata": {},
   "source": [
    "## Plot the data\n",
    "\n",
    "I already did some exploratory plots in creating the dataset, but let's add a couple as a quick sanity check."
   ]
  },
  {
   "cell_type": "code",
   "execution_count": 7,
   "metadata": {},
   "outputs": [
    {
     "data": {
      "image/png": "[encoded data removed]",
      "text/plain": [
       "<Figure size 1440x480 with 1 Axes>"
      ]
     },
     "metadata": {},
     "output_type": "display_data"
    }
   ],
   "source": [
    "# plot the entire time series\n",
    "tots = float_data[:, 11]  # total calls in interval\n",
    "plt.figure(figsize=(18, 6), dpi= 80, facecolor='w', edgecolor='k')\n",
    "plt.plot(range(len(tots)), tots, alpha=.8, linewidth=.2)\n",
    "plt.show()"
   ]
  },
  {
   "cell_type": "code",
   "execution_count": 8,
   "metadata": {},
   "outputs": [
    {
     "data": {
      "image/png": "[encoded data removed]",
      "text/plain": [
       "<Figure size 1440x480 with 1 Axes>"
      ]
     },
     "metadata": {},
     "output_type": "display_data"
    }
   ],
   "source": [
    "# plot the first week\n",
    "plt.figure(figsize=(18, 6), dpi= 80, facecolor='w', edgecolor='k')\n",
    "plt.plot(range(6*24*7), tots[:6*24*7], alpha=.8, linewidth=1.)\n",
    "plt.show()"
   ]
  },
  {
   "cell_type": "markdown",
   "metadata": {},
   "source": [
    "# Use an RNN for time series prediction"
   ]
  },
  {
   "cell_type": "markdown",
   "metadata": {},
   "source": [
    "## Overview of approach\n",
    "\n",
    "For each sample (observation) in the training or validation set, I will take ```loockback``` time steps (in this case, 6 week's timesteps) as my inputs for that sample. Note that each time step (each input) has multiple features (the number of calls to each agencies). \n",
    "\n",
    "I then look forward ```delay``` timesteps (in this case, 1 week's timesteps) for my single target (or prediction): the total number of calls in a 10 minute intervals. This is therefore a many-to-one architecture.\n",
    "\n",
    "I will fit my model for all observations in the training set and validation set for which I am amble to look both backward and forward a sufficient number of timesteps."
   ]
  },
  {
   "cell_type": "markdown",
   "metadata": {},
   "source": [
    "## Preprocess data"
   ]
  },
  {
   "cell_type": "markdown",
   "metadata": {},
   "source": [
    "### Train/dev/test sets"
   ]
  },
  {
   "cell_type": "code",
   "execution_count": 13,
   "metadata": {},
   "outputs": [
    {
     "data": {
      "text/plain": [
       "65264"
      ]
     },
     "execution_count": 13,
     "metadata": {},
     "output_type": "execute_result"
    }
   ],
   "source": [
    "len(float_data) - 20000*2"
   ]
  },
  {
   "cell_type": "markdown",
   "metadata": {},
   "source": [
    "I will use out of time validation and test sets. That is, I will train my model on the first 65,264 timesteps, validate on the next 20,000 timesteps, and test on the final 20,000 timesteps. "
   ]
  },
  {
   "cell_type": "code",
   "execution_count": 14,
   "metadata": {},
   "outputs": [
    {
     "name": "stdout",
     "output_type": "stream",
     "text": [
      "First training timestep: 2016-01-01-00-00\n",
      "Last training timestep: 2017-03-29-05-20\n",
      "Last vaidation timestep: 2017-08-15-02-40\n",
      "Last test timestep: 2017-12-31-23-50\n"
     ]
    }
   ],
   "source": [
    "print 'First training timestep:', lines[0][:16]\n",
    "print 'Last training timestep:', lines[len(float_data) - 20000*2][:16]\n",
    "print 'Last vaidation timestep:', lines[len(float_data) - 20000][:16]\n",
    "print 'Last test timestep:', lines[len(float_data)-1][:16]"
   ]
  },
  {
   "cell_type": "markdown",
   "metadata": {},
   "source": [
    "### Normalize the data\n",
    "\n",
    "I will normalize the data by substracting the mean of each timeseries and dividing by the standard deviation. I will compute the mean and stanard deviation on my training data only: the first 65,264 timesteps."
   ]
  },
  {
   "cell_type": "code",
   "execution_count": 15,
   "metadata": {},
   "outputs": [],
   "source": [
    "mean = float_data[:65264].mean(axis=0)\n",
    "float_data -= mean\n",
    "std = float_data[:65264].std(axis=0)\n",
    "float_data /= std"
   ]
  },
  {
   "cell_type": "markdown",
   "metadata": {},
   "source": [
    "## Define and instantiate generators\n",
    "\n",
    "### Define generator yielding timeseries samples and their targets\n",
    "\n",
    "The samples (data points) in the dataset are highly redundant (e.g. sample N and sample N + 1 will have most of their timesteps in common). It would be very wasteful to explicitly allocate every sample. Instead, I will define a generator to generate the samples on the fly using the original data.\n",
    "\n",
    "The generator below yields a tuple `(samples, targets)` where `samples` is one batch of input data and \n",
    "`targets` is the corresponding array of target temperatures. It takes the following arguments:\n",
    "\n",
    "* `data`: The original array of floating point data, which we just normalized in the code snippet above.\n",
    "* `lookback`: How many timesteps back should our input data go.\n",
    "* `delay`: How many timesteps in the future should our target be.\n",
    "* `min_index` and `max_index`: Indices in the `data` array that delimit which timesteps to draw from. This is useful for keeping a segment \n",
    "of the data for validation and another one for testing.\n",
    "* `shuffle`: Whether to shuffle our samples or draw them in chronological order.\n",
    "* `batch_size`: The number of samples per batch.\n",
    "* `step`: The period, in timesteps, at which we sample data. We will set it 6 in order to draw one data point every hour.\n",
    "\n",
    "We iterate over the following generator once for each mini-batch of timesteps. \n",
    "\n",
    "Within this generator, we then loop over every timestep for which it is viable to make a prediction (ie enough timesteps before and after) and find the early timesteps to include as inputs for that timesteps' prediction and the target for that timestep."
   ]
  },
  {
   "cell_type": "code",
   "execution_count": 16,
   "metadata": {},
   "outputs": [],
   "source": [
    "def generator(data, lookback, delay, min_index, max_index,\n",
    "              shuffle=False, batch_size=128, step=1):\n",
    "    # code before \"while 1\" only executes the first time execute generator function\n",
    "    if max_index is None:\n",
    "        max_index = len(data) - delay - 1\n",
    "    i = min_index + lookback   # first timestep for which make prediction is lookback steps after min_index\n",
    "    while 1:    # executes following code each time iterate over generator (ie with each .next()/for each mini-batch)\n",
    "        if shuffle:   \n",
    "            # draw a random sample of rows\n",
    "            rows = np.random.randint(\n",
    "                min_index + lookback, max_index, size=batch_size)\n",
    "        else:   \n",
    "            # update i and row values\n",
    "            if i + batch_size >= max_index: # if batch would go beyond max_index...\n",
    "                i = min_index + lookback    # ...revert to initial i value\n",
    "            rows = np.arange(i, min(i + batch_size, max_index))\n",
    "            i += len(rows)       # i increases by len(rows) each iteration over the genetor\n",
    "        \n",
    "        samples = np.zeros((len(rows),\n",
    "                           lookback // step,\n",
    "                           data.shape[-1]))\n",
    "        targets = np.zeros((len(rows),))\n",
    "        for j, row in enumerate(rows):    # for each timestampe in mini-batch\n",
    "            indices = range(rows[j] - lookback, rows[j], step)\n",
    "            samples[j] = data[indices]\n",
    "            targets[j] = data[rows[j] + delay][1]\n",
    "        yield samples, targets"
   ]
  },
  {
   "cell_type": "markdown",
   "metadata": {},
   "source": [
    "## Prepare the training, validation, and test generators"
   ]
  },
  {
   "cell_type": "markdown",
   "metadata": {},
   "source": [
    "### Confirm number timesteps to look backward for inputs and forward for targets"
   ]
  },
  {
   "cell_type": "code",
   "execution_count": 17,
   "metadata": {},
   "outputs": [
    {
     "name": "stdout",
     "output_type": "stream",
     "text": [
      "6 week's timesteps: 6048\n",
      "1 week's timesteps: 1008\n"
     ]
    }
   ],
   "source": [
    "# number timesteps to look back 6 weeks\n",
    "print \"6 week's timesteps:\", 6*24*7*6\n",
    "print \"1 week's timesteps:\", 6*24*7"
   ]
  },
  {
   "cell_type": "code",
   "execution_count": 18,
   "metadata": {},
   "outputs": [],
   "source": [
    "# # confirm that I am selecting timestampe exactly one week ahead\n",
    "# float_data_check = np.zeros((len(lines), len(header) - 1))\n",
    "# dates = []\n",
    "# for i, line in enumerate(lines):\n",
    "#     values = [float(x) for x in line.split(',')[1:]]\n",
    "#     dates.append(line.split(',')[0])\n",
    "#     float_data_check[i, :] = values\n",
    "# print len(float_data_check)\n",
    "# print len(dates)\n",
    "# print dates[0]\n",
    "# print dates[0 + 6*24*7]"
   ]
  },
  {
   "cell_type": "markdown",
   "metadata": {},
   "source": [
    "### Instantiate generators"
   ]
  },
  {
   "cell_type": "markdown",
   "metadata": {},
   "source": [
    "Now I'll use our abstract generator function to instantiate three generators, one for training, one for validation and one for testing. "
   ]
  },
  {
   "cell_type": "code",
   "execution_count": 26,
   "metadata": {},
   "outputs": [],
   "source": [
    "lookback = 6*24*7*6   # look back 6 weeks\n",
    "delay = 6*24*7        # predict 1 week ahead\n",
    "max_training = 65264\n",
    "step=1\n",
    "batch_size=128\n",
    "\n",
    "train_gen = generator(float_data,\n",
    "                      lookback=lookback,\n",
    "                      delay=delay,\n",
    "                      min_index=0,\n",
    "                      max_index=max_training,\n",
    "                      step=step, \n",
    "                      batch_size=batch_size)\n",
    "val_gen = generator(float_data,\n",
    "                    lookback=lookback,\n",
    "                    delay=delay,\n",
    "                    min_index=max_training+1,\n",
    "                    max_index=max_training+20000,\n",
    "                    step=step,\n",
    "                    batch_size=batch_size)\n",
    "test_gen = generator(float_data,\n",
    "                     lookback=lookback,\n",
    "                     delay=delay,\n",
    "                     min_index=max_training+20001,\n",
    "                     max_index=None,\n",
    "                     step=step,\n",
    "                     batch_size=batch_size)\n",
    "\n",
    "# This is how many steps to draw from `val_gen`\n",
    "# in order to see the whole validation set:\n",
    "val_steps = ((max_training+20000) - (max_training+1) - lookback) // batch_size\n",
    "\n",
    "# This is how many steps to draw from `test_gen`\n",
    "# in order to see the whole test set:\n",
    "test_steps = (len(float_data) - (max_training+20001) - lookback) // batch_size"
   ]
  },
  {
   "cell_type": "markdown",
   "metadata": {},
   "source": [
    "### Explore output of the generators\n",
    "\n",
    "***!!! Important to comment this out and re-create generators before fitting model. Need to make sure that haven't started iterating through generators already when fitting model. !!!***\n",
    "\n",
    "Let's explore some of this output to make sure we're clear what it's doing. \n",
    "\n",
    "First, let's take a look at the output of train_gen with a batch size of 1 (which I adjust above):"
   ]
  },
  {
   "cell_type": "code",
   "execution_count": 119,
   "metadata": {},
   "outputs": [
    {
     "name": "stdout",
     "output_type": "stream",
     "text": [
      "Each iteration of generator outputs a tuple of 2 elements:\n",
      "<type 'tuple'>\n",
      "2\n",
      "\n",
      "The 2nd element of the tuple is the target:\n",
      "<type 'numpy.ndarray'>\n",
      "(1,)\n",
      "[-0.56092767]\n",
      "\n",
      "The 1st element gives feature values for each timestep we will input to the model.\n",
      "It is a 3d array: a list of length 1, containing a 2d array where rows are timestamps\n",
      "and columns are features\n",
      "<type 'numpy.ndarray'>\n",
      "(1, 1440, 12)\n"
     ]
    }
   ],
   "source": [
    "# a = train_gen.next()\n",
    "# print 'Each iteration of generator outputs a tuple of 2 elements:'\n",
    "# print type(a)\n",
    "# print len(a)\n",
    "# print\n",
    "\n",
    "# print 'The 2nd element of the tuple is the target:'\n",
    "# print type(a[1])\n",
    "# print a[1].shape\n",
    "# print a[1]\n",
    "# print\n",
    "\n",
    "# print 'The 1st element of the tuple gives feature values for each timestep we will input to the model.'\n",
    "# print 'It is a 3d array: a list of length 1, containing a 2d array where rows are timestamps' \n",
    "# print 'and columns are features' \n",
    "# print type(a[0])\n",
    "# print a[0].shape"
   ]
  },
  {
   "cell_type": "markdown",
   "metadata": {},
   "source": [
    "Now, let's take a look at the oupput of train_gen with bath size of 128 (I adjusting the batch size above\n",
    "and create the generators again, but not run the cell above)."
   ]
  },
  {
   "cell_type": "code",
   "execution_count": 125,
   "metadata": {},
   "outputs": [
    {
     "name": "stdout",
     "output_type": "stream",
     "text": [
      "Each iteration of generator again outputs a tuple of 2 elements:\n",
      "<type 'tuple'>\n",
      "2\n",
      "\n",
      "The 2nd element of the tuple is the targets. It is an array of\n",
      "length 128 where each element is a target:\n",
      "<type 'numpy.ndarray'>\n",
      "(128,)\n",
      "\n",
      "The 1st element of the tuple gives feature values for each timestep we will input to the model.\n",
      "It is a 3d array: a list of length 128, which each element of this list contains a 2d array\n",
      "where rows are timestamps and columns are features:\n",
      "<type 'numpy.ndarray'>\n",
      "(128, 1440, 12)\n"
     ]
    }
   ],
   "source": [
    "# a = train_gen.next()\n",
    "# print 'Each iteration of generator again outputs a tuple of 2 elements:'\n",
    "# print type(a)\n",
    "# print len(a)\n",
    "# print\n",
    "\n",
    "# print 'The 2nd element of the tuple is the targets. It is an array of'\n",
    "# print 'length 128 where each element is a target:'\n",
    "# print type(a[1])\n",
    "# print a[1].shape\n",
    "# print\n",
    "\n",
    "# print 'The 1st element of the tuple gives feature values for each timestep we will input to the model.'\n",
    "# print 'It is a 3d array: a list of length 128, which each element of this list contains a 2d array'\n",
    "# print 'where rows are timestamps and columns are features:' \n",
    "# print type(a[0])\n",
    "# print a[0].shape"
   ]
  },
  {
   "cell_type": "markdown",
   "metadata": {},
   "source": [
    "# Implement a basic model"
   ]
  },
  {
   "cell_type": "markdown",
   "metadata": {},
   "source": [
    "Here is a simply fully-connected model in which we start by flattening the data, then run it through two Dense layers. Note the lack of activation function on the last Dense layer, which is typical for a regression problem. We use MAE as the loss.\n",
    "\n",
    "Arguments:\n",
    "* ```steps_per_epoch```: Total number of steps (batches of samples) before declaring one epoch finished and starting the next epoch (an epoch is an iteration over over all samples in the train and test tensors)\n",
    "* ```validation_steps```: Only relevant if steps_per_epoch is specified. Total number of steps (batches of samples) to validate before stopping."
   ]
  },
  {
   "cell_type": "code",
   "execution_count": 13,
   "metadata": {},
   "outputs": [
    {
     "name": "stdout",
     "output_type": "stream",
     "text": [
      "steps_per_epoch: 510\n"
     ]
    }
   ],
   "source": [
    "# set steps_per_epoch so each epoch works through training set once\n",
    "# (nb. I'm not accounting for being unable to use some samples in training\n",
    "# set because couldn't look backwards/fowards far enough)\n",
    "steps_per_epoch = int(math.ceil(max_training / float(batch_size)))\n",
    "print 'steps_per_epoch:', steps_per_epoch"
   ]
  },
  {
   "cell_type": "code",
   "execution_count": 17,
   "metadata": {},
   "outputs": [
    {
     "name": "stdout",
     "output_type": "stream",
     "text": [
      "Epoch 1/20\n",
      "500/500 [==============================] - 75s 150ms/step - loss: 11.8107 - val_loss: 20.8492\n",
      "Epoch 2/20\n",
      "500/500 [==============================] - 57s 114ms/step - loss: 6.5417 - val_loss: 5.0857\n",
      "Epoch 3/20\n",
      "500/500 [==============================] - 57s 114ms/step - loss: 2.2347 - val_loss: 3.1835\n",
      "Epoch 4/20\n",
      "500/500 [==============================] - 58s 115ms/step - loss: 0.8712 - val_loss: 3.0238\n",
      "Epoch 5/20\n",
      "500/500 [==============================] - 57s 114ms/step - loss: 0.7502 - val_loss: 0.6191\n",
      "Epoch 6/20\n",
      "500/500 [==============================] - 57s 114ms/step - loss: 0.8660 - val_loss: 0.6685\n",
      "Epoch 7/20\n",
      "500/500 [==============================] - 57s 115ms/step - loss: 0.9671 - val_loss: 0.9486\n",
      "Epoch 8/20\n",
      "500/500 [==============================] - 57s 115ms/step - loss: 1.0230 - val_loss: 1.1578\n",
      "Epoch 9/20\n",
      "500/500 [==============================] - 57s 115ms/step - loss: 1.0604 - val_loss: 1.5193\n",
      "Epoch 10/20\n",
      "500/500 [==============================] - 58s 115ms/step - loss: 1.2081 - val_loss: 1.3760\n",
      "Epoch 11/20\n",
      "500/500 [==============================] - 57s 114ms/step - loss: 1.1300 - val_loss: 0.8266\n",
      "Epoch 12/20\n",
      "500/500 [==============================] - 58s 116ms/step - loss: 1.2222 - val_loss: 1.6153\n",
      "Epoch 13/20\n",
      "500/500 [==============================] - 57s 115ms/step - loss: 1.3764 - val_loss: 2.8887\n",
      "Epoch 14/20\n",
      "500/500 [==============================] - 57s 115ms/step - loss: 1.3641 - val_loss: 4.1669\n",
      "Epoch 15/20\n",
      "500/500 [==============================] - 58s 115ms/step - loss: 1.3605 - val_loss: 1.6460\n",
      "Epoch 16/20\n",
      "500/500 [==============================] - 57s 114ms/step - loss: 1.4381 - val_loss: 8.1749\n",
      "Epoch 17/20\n",
      "500/500 [==============================] - 58s 116ms/step - loss: 2.0299 - val_loss: 5.8018\n",
      "Epoch 18/20\n",
      "500/500 [==============================] - 58s 116ms/step - loss: 1.8015 - val_loss: 2.4945\n",
      "Epoch 19/20\n",
      "500/500 [==============================] - 57s 115ms/step - loss: 1.5195 - val_loss: 3.0177\n",
      "Epoch 20/20\n",
      "500/500 [==============================] - 57s 114ms/step - loss: 1.6190 - val_loss: 1.8941\n"
     ]
    }
   ],
   "source": [
    "model = Sequential()\n",
    "model.add(layers.Flatten(input_shape=(lookback / step, float_data.shape[-1])))\n",
    "model.add(layers.Dense(32, activation='relu'))\n",
    "model.add(layers.Dense(1))\n",
    "\n",
    "model.compile(optimizer=RMSprop(), loss='mae')\n",
    "history = model.fit_generator(train_gen,\n",
    "                              steps_per_epoch=steps_per_epoch\n",
    "                              epochs=1,    # 5\n",
    "                              validation_data=val_gen,\n",
    "                              validation_steps=val_steps)"
   ]
  },
  {
   "cell_type": "markdown",
   "metadata": {},
   "source": [
    "Display the loss curves for validation and training:"
   ]
  },
  {
   "cell_type": "code",
   "execution_count": 18,
   "metadata": {},
   "outputs": [
    {
     "data": {
      "image/png": "[encoded data removed]",
      "text/plain": [
       "<Figure size 432x288 with 1 Axes>"
      ]
     },
     "metadata": {},
     "output_type": "display_data"
    }
   ],
   "source": [
    "loss = history.history['loss']\n",
    "val_loss = history.history['val_loss']\n",
    "\n",
    "epochs = range(len(loss))\n",
    "\n",
    "plt.figure()\n",
    "\n",
    "plt.plot(epochs, loss, 'bo', label='Training loss')\n",
    "plt.plot(epochs, val_loss, 'b', label='Validation loss')\n",
    "plt.title('Training and validation loss')\n",
    "plt.legend()\n",
    "\n",
    "plt.show()"
   ]
  },
  {
   "cell_type": "code",
   "execution_count": null,
   "metadata": {
    "collapsed": true
   },
   "outputs": [],
   "source": [
    "# save model (if it performs best, I will want to evaluate on test set,\n",
    "# and in practice would want to use it's predictions)\n",
    "# serialize model to JSON\n",
    "model_json = model.to_json()\n",
    "with open(\"model_basic.json\", \"w\") as json_file:\n",
    "    json_file.write(model_json)\n",
    "# serialize weights to HDF5\n",
    "model.save_weights(\"model_basic.h5\")"
   ]
  },
  {
   "cell_type": "markdown",
   "metadata": {},
   "source": [
    "# A first recurrent model"
   ]
  },
  {
   "cell_type": "markdown",
   "metadata": {},
   "source": [
    "The approach above consisted in first flattening the timeseries, which removed the notion of time from the input data. Let us instead look at our data as what it is: a sequence using a recurrent sequence processing model. Instead of the LSTM layer introduced in the previous section, we will use the GRU layer, developed by Cho et al. in 2014."
   ]
  },
  {
   "cell_type": "code",
   "execution_count": null,
   "metadata": {},
   "outputs": [
    {
     "name": "stdout",
     "output_type": "stream",
     "text": [
      "Epoch 1/20\n",
      "500/500 [==============================] - 3439s 7s/step - loss: 0.3717 - val_loss: 0.4178\n",
      "Epoch 2/20\n",
      "500/500 [==============================] - 3439s 7s/step - loss: 0.3636 - val_loss: 0.4047\n",
      "Epoch 3/20\n",
      "500/500 [==============================] - 3436s 7s/step - loss: 0.3627 - val_loss: 0.4080\n",
      "Epoch 4/20\n",
      "500/500 [==============================] - 3422s 7s/step - loss: 0.3603 - val_loss: 0.4193\n",
      "Epoch 5/20\n",
      "500/500 [==============================] - 3431s 7s/step - loss: 0.3582 - val_loss: 0.4062\n",
      "Epoch 6/20\n",
      "500/500 [==============================] - 3436s 7s/step - loss: 0.3572 - val_loss: 0.4054\n",
      "Epoch 7/20\n",
      "500/500 [==============================] - 3421s 7s/step - loss: 0.3576 - val_loss: 0.3992\n",
      "Epoch 8/20\n",
      "500/500 [==============================] - 3443s 7s/step - loss: 0.3563 - val_loss: 0.3990\n",
      "Epoch 9/20\n",
      "500/500 [==============================] - 3431s 7s/step - loss: 0.3585 - val_loss: 0.3968\n",
      "Epoch 10/20\n",
      "500/500 [==============================] - 3448s 7s/step - loss: 0.3571 - val_loss: 0.4011\n",
      "Epoch 11/20\n",
      "500/500 [==============================] - 3435s 7s/step - loss: 0.3556 - val_loss: 0.4051\n",
      "Epoch 12/20\n",
      "500/500 [==============================] - 3430s 7s/step - loss: 0.3576 - val_loss: 0.4025\n",
      "Epoch 13/20\n",
      " 25/500 [>.............................] - ETA: 52:02 - loss: 0.3808"
     ]
    }
   ],
   "source": [
    "start = time.time()\n",
    "\n",
    "model = Sequential()\n",
    "model.add(layers.GRU(32, input_shape=(None, float_data.shape[-1])))\n",
    "model.add(layers.Dense(1))\n",
    "\n",
    "model.compile(optimizer=RMSprop(), loss='mae')\n",
    "history = model.fit_generator(train_gen,\n",
    "                              steps_per_epoch=steps_per_epoch,\n",
    "                              epochs=20,\n",
    "                              validation_data=val_gen,\n",
    "                              validation_steps=val_steps)\n",
    "\n",
    "end = time.time()\n",
    "print 'Time elapsed:', end - start"
   ]
  },
  {
   "cell_type": "markdown",
   "metadata": {},
   "source": [
    "I interrupted the model here. Not seeing any improvement and it had been running all night (~ 12 hours)."
   ]
  },
  {
   "cell_type": "code",
   "execution_count": null,
   "metadata": {
    "collapsed": true
   },
   "outputs": [],
   "source": [
    "loss = history.history['loss']\n",
    "val_loss = history.history['val_loss']\n",
    "\n",
    "epochs = range(len(loss))\n",
    "\n",
    "plt.figure()\n",
    "\n",
    "plt.plot(epochs, loss, 'bo', label='Training loss')\n",
    "plt.plot(epochs, val_loss, 'b', label='Validation loss')\n",
    "plt.title('Training and validation loss')\n",
    "plt.legend()\n",
    "\n",
    "plt.show()"
   ]
  },
  {
   "cell_type": "code",
   "execution_count": null,
   "metadata": {},
   "outputs": [],
   "source": [
    "# save model\n",
    "model_json = model.to_json()\n",
    "with open(\"model_rnn.json\", \"w\") as json_file:\n",
    "    json_file.write(model_json)\n",
    "model.save_weights(\"model_rnn.h5\")"
   ]
  },
  {
   "cell_type": "markdown",
   "metadata": {},
   "source": [
    "# Recurrent dropout to fight overfitting"
   ]
  },
  {
   "cell_type": "markdown",
   "metadata": {},
   "source": [
    "Every recurrent layer in Keras has two dropout-related arguments: dropout, a float specifying the dropout rate for input units of the layer, and recurrent_dropout, specifying the dropout rate of the recurrent units. Let's add dropout and recurrent dropout to our GRU layer and see how it impacts overfitting. Because networks being regularized with dropout always take longer to fully converge, we train our network for twice as many epochs.\n",
    "\n",
    "Im going to set far few epochs this time, or I'll be broke."
   ]
  },
  {
   "cell_type": "code",
   "execution_count": null,
   "metadata": {},
   "outputs": [
    {
     "name": "stdout",
     "output_type": "stream",
     "text": [
      "Epoch 1/7\n",
      "510/510 [==============================] - 3656s 7s/step - loss: 0.3809 - val_loss: 0.4040\n",
      "Epoch 2/7\n",
      "510/510 [==============================] - 3652s 7s/step - loss: 0.3696 - val_loss: 0.4069\n",
      "Epoch 3/7\n",
      "249/510 [=============>................] - ETA: 29:39 - loss: 0.3800"
     ]
    }
   ],
   "source": [
    "start = time.time()\n",
    "\n",
    "model = Sequential()\n",
    "model.add(layers.GRU(32,\n",
    "                     dropout=0.2,\n",
    "                     recurrent_dropout=0.2,\n",
    "                     input_shape=(None, float_data.shape[-1])))\n",
    "model.add(layers.Dense(1))\n",
    "\n",
    "model.compile(optimizer=RMSprop(), loss='mae')\n",
    "history = model.fit_generator(train_gen,\n",
    "                              steps_per_epoch= steps_per_epoch,\n",
    "                              epochs=7,\n",
    "                              validation_data=val_gen,\n",
    "                              validation_steps=val_steps)\n",
    "\n",
    "\n",
    "\n",
    "end = time.time()\n",
    "print 'Time elapsed:', end - start"
   ]
  },
  {
   "cell_type": "code",
   "execution_count": 31,
   "metadata": {},
   "outputs": [],
   "source": [
    "# # save history as a dictionary\n",
    "# def save_obj(obj, name):\n",
    "#     with open('histories/' + name + '.pkl', 'wb') as f:\n",
    "#         pickle.dump(obj, f, pickle.HIGHEST_PROTOCOL)\n",
    "# save_obj(history.history, 'model_rnn_history')# gave it the wrong name, but leave for now"
   ]
  },
  {
   "cell_type": "code",
   "execution_count": 6,
   "metadata": {},
   "outputs": [],
   "source": [
    "# load dictionary containing history\n",
    "# (will need to refined loss and val_loss - see the two lines below)\n",
    "def load_obj(name ):\n",
    "    with open('histories/' + name + '.pkl', 'rb') as f:\n",
    "        return pickle.load(f)\n",
    "model_hist = load_obj('model_rnn_history')   "
   ]
  },
  {
   "cell_type": "code",
   "execution_count": 7,
   "metadata": {},
   "outputs": [
    {
     "data": {
      "image/png": "[encoded data removed]",
      "text/plain": [
       "<Figure size 432x288 with 1 Axes>"
      ]
     },
     "metadata": {},
     "output_type": "display_data"
    }
   ],
   "source": [
    "loss = model_hist['loss']\n",
    "val_loss = model_hist['val_loss']\n",
    "\n",
    "# loss = history.history['loss']\n",
    "# val_loss = history.history['val_loss']\n",
    "\n",
    "epochs = range(len(loss))\n",
    "\n",
    "plt.figure()\n",
    "\n",
    "plt.plot(epochs, loss, 'bo', label='Training loss')\n",
    "plt.plot(epochs, val_loss, 'b', label='Validation loss')\n",
    "plt.title('Training and validation loss')\n",
    "plt.legend()\n",
    "\n",
    "plt.show()"
   ]
  },
  {
   "cell_type": "code",
   "execution_count": 8,
   "metadata": {},
   "outputs": [
    {
     "name": "stdout",
     "output_type": "stream",
     "text": [
      "[0.4040471062892013, 0.4068554247970934, 0.40782218302289647, 0.4060570528661763, 0.4024261294139756, 0.396972940199905, 0.4037211385590059]\n"
     ]
    }
   ],
   "source": [
    "print val_loss"
   ]
  },
  {
   "cell_type": "code",
   "execution_count": null,
   "metadata": {},
   "outputs": [],
   "source": [
    "# save model\n",
    "model_json = model.to_json()\n",
    "with open(\"model_dropout.json\", \"w\") as json_file:\n",
    "    json_file.write(model_json)\n",
    "model.save_weights(\"model_dropout.h5\")"
   ]
  },
  {
   "cell_type": "markdown",
   "metadata": {},
   "source": [
    "# A dropout-regularized, stacked GRU model"
   ]
  },
  {
   "cell_type": "code",
   "execution_count": null,
   "metadata": {},
   "outputs": [],
   "source": [
    "start = time.time()\n",
    "\n",
    "model = Sequential()\n",
    "model.add(layers.GRU(32,\n",
    "                     dropout=0.1,\n",
    "                     recurrent_dropout=0.5,\n",
    "                     return_sequences=True,\n",
    "                     input_shape=(None, float_data.shape[-1])))\n",
    "model.add(layers.GRU(64, activation='relu',\n",
    "                     dropout=0.1, \n",
    "                     recurrent_dropout=0.5))\n",
    "model.add(layers.Dense(1))\n",
    "model.compile(optimizer=RMSprop(), loss='mae')\n",
    "\n",
    "filepath='saved_epochs/stacked-weights-{epoch:02d}-{val_loss:.2f}.hdf5'\n",
    "checkpoint = ModelCheckpoint(filepath, monitor='val_loss', verbose=0, save_best_only=False)\n",
    "callbacks_list = [TQDMNotebookCallback(), checkpoint]\n",
    "\n",
    "history = model.fit_generator(train_gen,\n",
    "                              steps_per_epoch=steps_per_epoch,\n",
    "                              epochs=3,\n",
    "                              validation_data=val_gen,\n",
    "                              validation_steps=val_steps, \n",
    "                              callbacks=callbacks_list)\n",
    "\n",
    "end = time.time()\n",
    "print 'Time elapsed:', end - start"
   ]
  },
  {
   "cell_type": "code",
   "execution_count": null,
   "metadata": {},
   "outputs": [],
   "source": [
    "# # save history \n",
    "# def save_obj(obj, name):\n",
    "#     with open('histories/' + name + '.pkl', 'wb') as f:\n",
    "#         pickle.dump(obj, f, pickle.HIGHEST_PROTOCOL)\n",
    "# save_obj(history.history, 'model_stacked_history')"
   ]
  },
  {
   "cell_type": "code",
   "execution_count": 3,
   "metadata": {},
   "outputs": [],
   "source": [
    "# load dictionary containing history\n",
    "# (will need to refined loss and val_loss - see the two lines below)\n",
    "def load_obj(name ):\n",
    "    with open('histories/' + name + '.pkl', 'rb') as f:\n",
    "        return pickle.load(f)\n",
    "model_hist = load_obj('model_stacked_history')   "
   ]
  },
  {
   "cell_type": "code",
   "execution_count": 4,
   "metadata": {},
   "outputs": [
    {
     "data": {
      "image/png": "[encoded data removed]",
      "text/plain": [
       "<Figure size 432x288 with 1 Axes>"
      ]
     },
     "metadata": {},
     "output_type": "display_data"
    }
   ],
   "source": [
    "loss = model_hist['loss']\n",
    "val_loss = model_hist['val_loss']\n",
    "\n",
    "# loss = history.history['loss']\n",
    "# val_loss = history.history['val_loss']\n",
    "\n",
    "epochs = range(len(loss))\n",
    "\n",
    "plt.figure()\n",
    "\n",
    "plt.plot(epochs, loss, 'bo', label='Training loss')\n",
    "plt.plot(epochs, val_loss, 'b', label='Validation loss')\n",
    "plt.title('Training and validation loss')\n",
    "plt.legend()\n",
    "\n",
    "plt.show()"
   ]
  },
  {
   "cell_type": "code",
   "execution_count": 5,
   "metadata": {},
   "outputs": [
    {
     "name": "stdout",
     "output_type": "stream",
     "text": [
      "[0.4039141784111659, 0.4107716536080396, 0.4063528112515255]\n"
     ]
    }
   ],
   "source": [
    "print val_loss"
   ]
  },
  {
   "cell_type": "code",
   "execution_count": null,
   "metadata": {},
   "outputs": [],
   "source": [
    "# save model\n",
    "model_json = model.to_json()\n",
    "with open(\"saved_models/model_stacked.json\", \"w\") as json_file:\n",
    "    json_file.write(model_json)\n",
    "model.save_weights(\"saved_models/model_stacked.h5\")"
   ]
  },
  {
   "cell_type": "markdown",
   "metadata": {},
   "source": [
    "# Run the best performing model on the test set\n",
    "\n",
    "The different RNN models that I have tried vary little in their performance on the validation set. I will evaluate the dropout model on the test set:"
   ]
  },
  {
   "cell_type": "code",
   "execution_count": 23,
   "metadata": {},
   "outputs": [
    {
     "name": "stdout",
     "output_type": "stream",
     "text": [
      "Loaded model from disk\n"
     ]
    }
   ],
   "source": [
    "# load json and create model\n",
    "json_file = open('saved_models/model_dropout.json', 'r')\n",
    "loaded_model_json = json_file.read()\n",
    "json_file.close()\n",
    "loaded_model = model_from_json(loaded_model_json)\n",
    "# load weights into new model\n",
    "loaded_model.load_weights(\"saved_models/model_dropout.h5\")\n",
    "print(\"Loaded model from disk\")\n",
    "\n",
    "# compile\n",
    "loaded_model.compile(loss='mae', optimizer='rmsprop', metrics=['accuracy'])"
   ]
  },
  {
   "cell_type": "code",
   "execution_count": 29,
   "metadata": {},
   "outputs": [
    {
     "data": {
      "text/plain": [
       "[0.3873640545816333, 0.0]"
      ]
     },
     "execution_count": 29,
     "metadata": {},
     "output_type": "execute_result"
    }
   ],
   "source": [
    "score = loaded_model.evaluate_generator(test_gen, steps=test_steps) \n",
    "score"
   ]
  },
  {
   "cell_type": "markdown",
   "metadata": {},
   "source": [
    "Get predictions (don't need this now, but good to have code):"
   ]
  },
  {
   "cell_type": "code",
   "execution_count": 30,
   "metadata": {},
   "outputs": [
    {
     "data": {
      "text/plain": [
       "array([[-0.10876478],\n",
       "       [-0.1357347 ],\n",
       "       [-0.14838044],\n",
       "       ...,\n",
       "       [-0.40960738],\n",
       "       [-0.43218496],\n",
       "       [-0.46185914]], dtype=float32)"
      ]
     },
     "execution_count": 30,
     "metadata": {},
     "output_type": "execute_result"
    }
   ],
   "source": [
    "pred = loaded_model.predict_generator(test_gen, steps=test_steps)\n",
    "pred"
   ]
  },
  {
   "cell_type": "markdown",
   "metadata": {},
   "source": [
    "# Future steps \n",
    "\n",
    "## Model tuning\n",
    "\n",
    "I could try tuning the many different hyperparameters of the model including:\n",
    "\n",
    "* using a different number of units in each layer\n",
    "* stacking more layers\n",
    "* using LSTM layers instead of GRU layers\n",
    "* using a different form of regularization\n",
    "\n",
    "## Forecasting for multiple time series\n",
    "\n",
    "I could forecast for each of the different time series that I am using, that is, calls to each different agency. If I go this route, a [recent Kaggle competition](https://www.kaggle.com/c/web-traffic-time-series-forecasting) on web traffic focused on “forecasting the future values of multiple time series, as it has always been one of the most challenging problems in the field.”\n",
    "\n",
    "## Multi-step forecasting with RNNs\n",
    "\n",
    "I would like to develop a model to make multi-step forecasts. Forecasting demand for a single 10 minute period in 1 weeks time, for example, probably isn't going to be particualarly helpful for NYC 311. On the other hand, forecasting demand for an hour, several hours, or a whole day might be of great assistance in ensuring that they plan to meet the given demand.\n",
    "\n",
    "There are at least [four commonly used strategies](https://machinelearningmastery.com/multi-step-time-series-forecasting/) for making multi-step forecasts:\n",
    "\n",
    "\n",
    "1. Direct Multi-step Forecast Strategy - develop a separate model for each forecast time step. However, having one model for each timestep is an added computational burden. In addition, because separate models are used, it means that there is no opportunity to model the dependencies between the predictions.\n",
    "2. Recursive multi-step forecast - the recursive strategy involves using a one-step model multiple times where the prediction for the prior time step is used as an input for making a prediction on the following time step. This avoids the need to fit a separate model of each timestep, although the drawback is that it allows prediction errors to accumulate.\n",
    "3. Direct-Recursive Hybrid Multi-step Forecast Strategies - a separate model can be constructed for each time step to be predicted, but each model may use the predictions made by models at prior time steps as input values. Combining direct and recursive strategies can offer the benefits of both methods, but will still be computationally expensive.\n",
    "4. Multiple Output Forecast Strategy - develop one model that is capable of predicting the entire forecast sequence. A nice example of a Time Series forecasting model with seq2seq in TensorFlow is [here](https://weiminwang.blog/2017/09/29/multivariate-time-series-forecast-using-seq2seq-in-tensorflow/). It appears that such a seq2seq architecture is [not currently available out of the box in Keras](https://recurrentnull.files.wordpress.com/2017/05/timeseries_prediction_deeplearning.pdf). However, [this package](https://github.com/pipidog/DeepTimeSeries) built on top of Keras says that it offers seq2seq.\n",
    "\n",
    "Given how long it is taking to fit the models above, (1) and (3) are not practically feasible. \n",
    "\n",
    "With respect to (2) and (3) we face two significant problems in seeking to applying recursive partitioning:\n",
    "\n",
    "* the models above predict ```delay``` timestamps ahead. To apply the recursive strategy, in contrast, we need a prediction (or rather predictions for each feature) for one step ahead.  \n",
    "* the models above take multiple features as inputs but generate a single prediction. If were to try to use the prior (predicted) step as an input, therefore, we would be missing multiple features from the model and indeed have only a feature (total calls) that was not itself a feature in the original model.\n",
    "\n",
    "There is currently no out of the box implementaton of (4) in Keras. The [DeepTimeSeries package](https://github.com/pipidog/DeepTimeSeries), built on top of, Keras can fit seq2seq time series models. However, it appears that this package will only generate predictions for subsequent steps; that is, there is again no ```delay``` option. If I want to predict for ten minute intervals a week ahead, this would therefore mean predicting a great many timestamps into the future. It might be possible to \"trick\" the model my changing the target for the next timestep with the target from 1 week in the future. I'm unsure if this is appropriate, however. Even more problematically, I can't figure out how to fit this model with multiple features at each timestep, although it does look like this should be possible.\n",
    "\n",
    "I will therefore set aside for now my goal of multi-step forecasting starting several steps ahead, but keep an eye out for future solutions."
   ]
  },
  {
   "cell_type": "markdown",
   "metadata": {},
   "source": [
    "# References"
   ]
  },
  {
   "cell_type": "markdown",
   "metadata": {},
   "source": [
    "In the above analysis I draw very heavily on (and copy and paste from) an example from Francois Chollet (2018) *Deep Learning with Python*, Chatper 6. "
   ]
  }
 ],
 "metadata": {
  "kernelspec": {
   "display_name": "Python 2",
   "language": "python",
   "name": "python2"
  },
  "language_info": {
   "codemirror_mode": {
    "name": "ipython",
    "version": 2
   },
   "file_extension": ".py",
   "mimetype": "text/x-python",
   "name": "python",
   "nbconvert_exporter": "python",
   "pygments_lexer": "ipython2",
   "version": "2.7.12"
  }
 },
 "nbformat": 4,
 "nbformat_minor": 2
}
